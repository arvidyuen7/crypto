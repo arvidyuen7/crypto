{
 "cells": [
  {
   "cell_type": "code",
   "execution_count": 10,
   "id": "fc782287-ba74-41f2-a6c6-62c988c8b620",
   "metadata": {},
   "outputs": [],
   "source": [
    "import yfinance as yf\n",
    "import pandas as pd\n",
    "import numpy as np\n",
    "import matplotlib.pyplot as plt"
   ]
  },
  {
   "cell_type": "code",
   "execution_count": 11,
   "id": "450209e8-989e-4ee8-8210-3270cadfa56b",
   "metadata": {},
   "outputs": [],
   "source": [
    "BTC_Ticker = yf.Ticker(\"BTC-USD\")\n",
    "BTC_Data = BTC_Ticker.history(period=\"3mo\")"
   ]
  },
  {
   "cell_type": "code",
   "execution_count": 12,
   "id": "ce6f3afd-6478-4203-a086-745a0b23d4b4",
   "metadata": {},
   "outputs": [],
   "source": [
    "BTC_Data['datetime'] = pd.to_datetime(BTC_Data.index)\n",
    "# Add simple moving average\n",
    "BTC_Data[\"SMA30\"] = BTC_Data[\"Close\"].rolling(30, closed='left', min_periods=30).mean()\n",
    "# Add percent change compared to moving average\n",
    "BTC_Data[\"ROL_DIFF\"] = BTC_Data[\"Close\"] - BTC_Data[\"SMA30\"]\n",
    "# Calculate the percentage change from 30 day average to current day\n",
    "# this is how much it is different from the 30-day average as a percent of the 30-day average\n",
    "BTC_Data[\"PCT_ROL_DIF\"] = (BTC_Data[\"ROL_DIFF\"]) / BTC_Data[\"SMA30\"]"
   ]
  },
  {
   "cell_type": "code",
   "execution_count": 13,
   "id": "6bbf8288-dfdd-484d-9e42-d691b645e6db",
   "metadata": {},
   "outputs": [],
   "source": [
    "last_day = BTC_Data.iloc[-1]"
   ]
  },
  {
   "cell_type": "code",
   "execution_count": 14,
   "id": "0d35a9de-1832-495a-a3fe-6c22422e1d01",
   "metadata": {},
   "outputs": [],
   "source": [
    "# create variables for the remaining functions\n",
    "date = last_day[\"datetime\"].strftime(\"%Y-%m-%d\")\n",
    "close = round(last_day['Close'],2)\n",
    "past_avg = round(last_day['SMA30'],2)\n",
    "roll_diff = round(last_day['ROL_DIFF'],2)\n",
    "pct_chg = round(last_day['PCT_ROL_DIF'],2)\n",
    "pct_chg_show = str(round(last_day['PCT_ROL_DIF']*100,2))+\"%\""
   ]
  },
  {
   "cell_type": "code",
   "execution_count": 15,
   "id": "dbe8b694-dda9-4f47-bb31-ce71f4c3deb2",
   "metadata": {},
   "outputs": [],
   "source": [
    "def calculate_result(pct_chg,date,close,past_avg,roll_diff,pct_chg_show):\n",
    "    if pct_chg <= -0.2:\n",
    "        title_chg = \"Significant Decrease\"\n",
    "        send(create_message(title_chg,date,close,past_avg,roll_diff,pct_chg_show))\n",
    "        return title_chg\n",
    "    elif pct_chg > 0.2:\n",
    "        title_chg = \"Significant Increase\"\n",
    "        send(create_message(title_chg,date,close,past_avg,roll_diff,pct_chg_show))\n",
    "        return title_chg\n",
    "    else:\n",
    "        title_chg = \"No Significant Change\"\n",
    "        send(create_message(title_chg,date,close,past_avg,roll_diff,pct_chg_show))\n",
    "        return \"no_change\""
   ]
  },
  {
   "cell_type": "code",
   "execution_count": 16,
   "id": "42bc195a-d89e-4f56-adec-1f7f3b247b08",
   "metadata": {},
   "outputs": [],
   "source": [
    "def create_message(title_chg,date,close,past_avg,roll_diff,pct_chg_show):\n",
    "    message = f\"\"\"From: Pyuenthon <pyuenthon@hotmail.com>\n",
    "To: Receiver <arvidyuen7@hotmail.com>\n",
    "Subject: BTC Udate - {title_chg}\n",
    "\n",
    "Today's date: {date}\n",
    "Today's close: USD ${close}\n",
    "Past 30 days average: USD ${past_avg}\n",
    "Today's change over past 30-day average: USD ${roll_diff}\n",
    "Today's change over past 30-day average by percentage: {pct_chg_show}\n",
    "\n",
    "Go Raiders!\n",
    "\"\"\"\n",
    "    return message"
   ]
  },
  {
   "cell_type": "code",
   "execution_count": 17,
   "id": "7785511d-ee45-4eff-9906-3a44e1cb610c",
   "metadata": {},
   "outputs": [],
   "source": [
    "import requests\n",
    "import datetime\n",
    "import smtplib\n",
    "\n",
    "def send(message):\n",
    "    # creates SMTP session\n",
    "    s = smtplib.SMTP('smtp-mail.outlook.com', 587)\n",
    "\n",
    "    # start TLS for security\n",
    "    s.starttls()\n",
    "\n",
    "    # Authentication\n",
    "    s.login(\"pyuenthon@hotmail.com\", \"f5R8jpfWUluc0\")\n",
    "\n",
    "    # sending the mail\n",
    "    s.sendmail(\"pyuenthon@hotmail.com\", \"arvidyuen7@hotmail.com\", message)\n",
    "\n",
    "    # terminating the session\n",
    "    s.quit()"
   ]
  },
  {
   "cell_type": "code",
   "execution_count": 18,
   "id": "a47d0fbd-c459-460d-8744-21bc565dce7d",
   "metadata": {},
   "outputs": [
    {
     "data": {
      "text/plain": [
       "'no_change'"
      ]
     },
     "execution_count": 18,
     "metadata": {},
     "output_type": "execute_result"
    }
   ],
   "source": [
    "calculate_result(pct_chg,date,close,past_avg,roll_diff,pct_chg_show)"
   ]
  }
 ],
 "metadata": {
  "kernelspec": {
   "display_name": "Python 3 (ipykernel)",
   "language": "python",
   "name": "python3"
  },
  "language_info": {
   "codemirror_mode": {
    "name": "ipython",
    "version": 3
   },
   "file_extension": ".py",
   "mimetype": "text/x-python",
   "name": "python",
   "nbconvert_exporter": "python",
   "pygments_lexer": "ipython3",
   "version": "3.7.12"
  }
 },
 "nbformat": 4,
 "nbformat_minor": 5
}
